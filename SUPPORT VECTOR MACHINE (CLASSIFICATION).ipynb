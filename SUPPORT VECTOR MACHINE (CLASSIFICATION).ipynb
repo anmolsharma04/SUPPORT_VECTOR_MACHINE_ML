{
 "cells": [
  {
   "cell_type": "code",
   "execution_count": 7,
   "id": "a615bc34-d241-4589-aeab-a0634ffb1d1f",
   "metadata": {},
   "outputs": [],
   "source": [
    "import pandas as pd \n",
    "import numpy as np \n",
    "import seaborn as sns\n",
    "import matplotlib.pyplot as plt\n",
    "from sklearn.model_selection import train_test_split\n",
    "from sklearn.preprocessing import StandardScaler , LabelEncoder\n",
    "from sklearn.metrics import accuracy_score , classification_report , confusion_matrix\n",
    "from sklearn.tree import DecisionTreeClassifier\n",
    "from sklearn.svm import SVC"
   ]
  },
  {
   "cell_type": "code",
   "execution_count": 9,
   "id": "7d11504b-c83f-4d4f-8146-8c099960178d",
   "metadata": {},
   "outputs": [
    {
     "data": {
      "text/html": [
       "<div>\n",
       "<style scoped>\n",
       "    .dataframe tbody tr th:only-of-type {\n",
       "        vertical-align: middle;\n",
       "    }\n",
       "\n",
       "    .dataframe tbody tr th {\n",
       "        vertical-align: top;\n",
       "    }\n",
       "\n",
       "    .dataframe thead th {\n",
       "        text-align: right;\n",
       "    }\n",
       "</style>\n",
       "<table border=\"1\" class=\"dataframe\">\n",
       "  <thead>\n",
       "    <tr style=\"text-align: right;\">\n",
       "      <th></th>\n",
       "      <th>Transaction_Time</th>\n",
       "      <th>Transaction_ID</th>\n",
       "      <th>Transaction_Date</th>\n",
       "      <th>Customer_Age</th>\n",
       "      <th>Fraud</th>\n",
       "      <th>Customer_Income</th>\n",
       "    </tr>\n",
       "  </thead>\n",
       "  <tbody>\n",
       "    <tr>\n",
       "      <th>0</th>\n",
       "      <td>1126</td>\n",
       "      <td>1</td>\n",
       "      <td>344</td>\n",
       "      <td>66</td>\n",
       "      <td>1</td>\n",
       "      <td>26102</td>\n",
       "    </tr>\n",
       "    <tr>\n",
       "      <th>1</th>\n",
       "      <td>860</td>\n",
       "      <td>2</td>\n",
       "      <td>326</td>\n",
       "      <td>66</td>\n",
       "      <td>1</td>\n",
       "      <td>70336</td>\n",
       "    </tr>\n",
       "    <tr>\n",
       "      <th>2</th>\n",
       "      <td>1294</td>\n",
       "      <td>3</td>\n",
       "      <td>8</td>\n",
       "      <td>69</td>\n",
       "      <td>1</td>\n",
       "      <td>138015</td>\n",
       "    </tr>\n",
       "    <tr>\n",
       "      <th>3</th>\n",
       "      <td>1130</td>\n",
       "      <td>4</td>\n",
       "      <td>343</td>\n",
       "      <td>29</td>\n",
       "      <td>1</td>\n",
       "      <td>105314</td>\n",
       "    </tr>\n",
       "    <tr>\n",
       "      <th>4</th>\n",
       "      <td>1095</td>\n",
       "      <td>5</td>\n",
       "      <td>128</td>\n",
       "      <td>56</td>\n",
       "      <td>1</td>\n",
       "      <td>143007</td>\n",
       "    </tr>\n",
       "  </tbody>\n",
       "</table>\n",
       "</div>"
      ],
      "text/plain": [
       "   Transaction_Time  Transaction_ID  Transaction_Date  Customer_Age  Fraud  \\\n",
       "0              1126               1               344            66      1   \n",
       "1               860               2               326            66      1   \n",
       "2              1294               3                 8            69      1   \n",
       "3              1130               4               343            29      1   \n",
       "4              1095               5               128            56      1   \n",
       "\n",
       "   Customer_Income  \n",
       "0            26102  \n",
       "1            70336  \n",
       "2           138015  \n",
       "3           105314  \n",
       "4           143007  "
      ]
     },
     "execution_count": 9,
     "metadata": {},
     "output_type": "execute_result"
    }
   ],
   "source": [
    "#LOADING DATASET FROM A CSV FILE\n",
    "df = pd.read_csv(r'C:\\Users\\anmol\\Downloads\\transaction_data_knn_practice.csv' , encoding = 'ISO-8859-1' )\n",
    "df.head()"
   ]
  },
  {
   "cell_type": "code",
   "execution_count": 11,
   "id": "86985540-6401-4a30-8e11-6b4cafede4ec",
   "metadata": {},
   "outputs": [],
   "source": [
    "X=df.drop(['Transaction_ID', 'Fraud'], axis=1, errors='ignore')\n",
    "\n",
    "y=df['Fraud']\n",
    "\n",
    "#SPLITTING DATA\n",
    "X_train , X_test , y_train , y_test = train_test_split(X,y,  test_size=0.3 , random_state = 0)\n"
   ]
  },
  {
   "cell_type": "code",
   "execution_count": 17,
   "id": "6969fd66-e472-410c-911f-2dba54e2160c",
   "metadata": {},
   "outputs": [],
   "source": [
    "#SUPPORT VECTOR MACHINE \n",
    "svm  = SVC()\n",
    "svm.fit(X_train , y_train)\n",
    "svm_pred = svm.predict(X_test)\n",
    "svm_accuracy = accuracy_score(y_test , svm_pred)"
   ]
  },
  {
   "cell_type": "code",
   "execution_count": 19,
   "id": "c2012a2f-71d7-41a7-92fc-aa0f6606d72e",
   "metadata": {},
   "outputs": [
    {
     "name": "stdout",
     "output_type": "stream",
     "text": [
      "ACCURACY:30.00\n",
      "\n",
      " SVM CLASSIFICATION\n",
      "              precision    recall  f1-score   support\n",
      "\n",
      "           0       0.30      1.00      0.46         9\n",
      "           1       0.00      0.00      0.00        21\n",
      "\n",
      "    accuracy                           0.30        30\n",
      "   macro avg       0.15      0.50      0.23        30\n",
      "weighted avg       0.09      0.30      0.14        30\n",
      "\n"
     ]
    },
    {
     "name": "stderr",
     "output_type": "stream",
     "text": [
      "C:\\Users\\anmol\\anaconda3\\Lib\\site-packages\\sklearn\\metrics\\_classification.py:1509: UndefinedMetricWarning: Precision is ill-defined and being set to 0.0 in labels with no predicted samples. Use `zero_division` parameter to control this behavior.\n",
      "  _warn_prf(average, modifier, f\"{metric.capitalize()} is\", len(result))\n",
      "C:\\Users\\anmol\\anaconda3\\Lib\\site-packages\\sklearn\\metrics\\_classification.py:1509: UndefinedMetricWarning: Precision is ill-defined and being set to 0.0 in labels with no predicted samples. Use `zero_division` parameter to control this behavior.\n",
      "  _warn_prf(average, modifier, f\"{metric.capitalize()} is\", len(result))\n",
      "C:\\Users\\anmol\\anaconda3\\Lib\\site-packages\\sklearn\\metrics\\_classification.py:1509: UndefinedMetricWarning: Precision is ill-defined and being set to 0.0 in labels with no predicted samples. Use `zero_division` parameter to control this behavior.\n",
      "  _warn_prf(average, modifier, f\"{metric.capitalize()} is\", len(result))\n"
     ]
    }
   ],
   "source": [
    "#DISPLAY ACCURACY AND PERFORMANCE MATRICS\n",
    "print(f'ACCURACY:{svm_accuracy*100:.2f}')\n",
    "print('\\n SVM CLASSIFICATION')\n",
    "print(classification_report(y_test , svm_pred))\n"
   ]
  },
  {
   "cell_type": "code",
   "execution_count": null,
   "id": "c419dffa-aad5-44fe-8536-9b36b5a61157",
   "metadata": {},
   "outputs": [],
   "source": []
  }
 ],
 "metadata": {
  "kernelspec": {
   "display_name": "Python 3 (ipykernel)",
   "language": "python",
   "name": "python3"
  },
  "language_info": {
   "codemirror_mode": {
    "name": "ipython",
    "version": 3
   },
   "file_extension": ".py",
   "mimetype": "text/x-python",
   "name": "python",
   "nbconvert_exporter": "python",
   "pygments_lexer": "ipython3",
   "version": "3.12.4"
  }
 },
 "nbformat": 4,
 "nbformat_minor": 5
}
